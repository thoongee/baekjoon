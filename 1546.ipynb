{
 "cells": [
  {
   "cell_type": "code",
   "execution_count": null,
   "id": "a7048648",
   "metadata": {},
   "outputs": [],
   "source": [
    "#1차 시도 : 왜 scores가 새로운 값으로 안바뀌지?\n",
    "#제대로 안바뀐게 아니라, '모든 점수' = 최고 점수도 최고점수/m*100\n",
    "n = int(input())\n",
    "scores = list(map(int,input().split()))\n",
    "m = max(scores)\n",
    "total = 0\n",
    "\n",
    "for score in scores:\n",
    "    score = score/m*100\n",
    "    total += score\n",
    "\n",
    "print(total/n)"
   ]
  },
  {
   "cell_type": "code",
   "execution_count": null,
   "id": "59afd018",
   "metadata": {},
   "outputs": [],
   "source": []
  }
 ],
 "metadata": {
  "kernelspec": {
   "display_name": "Python 3",
   "language": "python",
   "name": "python3"
  },
  "language_info": {
   "codemirror_mode": {
    "name": "ipython",
    "version": 3
   },
   "file_extension": ".py",
   "mimetype": "text/x-python",
   "name": "python",
   "nbconvert_exporter": "python",
   "pygments_lexer": "ipython3",
   "version": "3.8.5"
  }
 },
 "nbformat": 4,
 "nbformat_minor": 5
}
