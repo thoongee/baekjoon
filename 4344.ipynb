{
 "cells": [
  {
   "cell_type": "code",
   "execution_count": 8,
   "id": "cbff6a89",
   "metadata": {},
   "outputs": [
    {
     "name": "stdout",
     "output_type": "stream",
     "text": [
      "5\n",
      "5 50 50 70 80 100\n",
      "40.000\n"
     ]
    }
   ],
   "source": [
    "# check point1. 반올림 (기본설정 : 반내림)\n",
    "# check point2. 소수점 셋째 자리까지 출력\n",
    "\n",
    "c = int(input())\n",
    "for _ in range(c):\n",
    "    n = list(map(int,input().split()))\n",
    "    total = 0\n",
    "\n",
    "    for i in range(1,n[0]+1):\n",
    "        total += n[i]\n",
    "\n",
    "    avg = total/n[0]\n",
    "    over = 0\n",
    "\n",
    "    for i in range(1,n[0]+1):\n",
    "        if n[i]>avg:\n",
    "            over += 1\n",
    "\n",
    "    ratio = over/n[0]*100\n",
    "    print('%.3f%%'%ratio)\n",
    "\n",
    "# format 형식 이용\n",
    "# for문 범위 조심"
   ]
  },
  {
   "cell_type": "code",
   "execution_count": null,
   "id": "726d951c",
   "metadata": {},
   "outputs": [],
   "source": []
  }
 ],
 "metadata": {
  "kernelspec": {
   "display_name": "Python 3",
   "language": "python",
   "name": "python3"
  },
  "language_info": {
   "codemirror_mode": {
    "name": "ipython",
    "version": 3
   },
   "file_extension": ".py",
   "mimetype": "text/x-python",
   "name": "python",
   "nbconvert_exporter": "python",
   "pygments_lexer": "ipython3",
   "version": "3.8.5"
  }
 },
 "nbformat": 4,
 "nbformat_minor": 5
}
