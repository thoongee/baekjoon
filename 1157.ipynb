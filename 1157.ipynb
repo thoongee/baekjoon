{
 "cells": [
  {
   "cell_type": "code",
   "execution_count": 5,
   "id": "1de286e8",
   "metadata": {},
   "outputs": [
    {
     "name": "stdout",
     "output_type": "stream",
     "text": [
      "Missiissjf\n",
      "S\n"
     ]
    }
   ],
   "source": [
    "# check point1. 알파벳 대소문자 변경 방법\n",
    "# check point2. A != a\n",
    "# check poitn3. 알파벳 사용 빈도 측정 방법\n",
    "\n",
    "from collections import Counter\n",
    "\n",
    "word = Counter(input().upper())\n",
    "max_list = []\n",
    "\n",
    "for key, value in word.items():\n",
    "    if value == max(word.values()):\n",
    "        max_list.append(key)\n",
    "        \n",
    "if len(max_list) >= 2:\n",
    "    print('?')\n",
    "else:\n",
    "    print(max_list[0])\n",
    "    \n",
    "\n"
   ]
  },
  {
   "cell_type": "code",
   "execution_count": 9,
   "id": "e36b0034",
   "metadata": {},
   "outputs": [
    {
     "name": "stdout",
     "output_type": "stream",
     "text": [
      "Missisiimmi\n",
      "I\n"
     ]
    }
   ],
   "source": [
    "# try, except 이용\n",
    "\n",
    "# try : dictionary 내에 존재하는 key값일 때, 해당 key를 가진 value+1\n",
    "#except : dictionary 내에 없을 때, value:1로 저장된다.\n",
    "\n",
    "word = input().upper()\n",
    "word_list = {}\n",
    "\n",
    "for i in word:\n",
    "    try: word_list[i] += 1\n",
    "    except: word_list[i] = 1\n",
    "\n",
    "max_list = []\n",
    "\n",
    "for key, value in word_list.items():\n",
    "    if value == max(word_list.values()):\n",
    "        max_list.append(key)\n",
    "        \n",
    "if len(max_list) >= 2:\n",
    "    print('?')\n",
    "else:\n",
    "    print(max_list[0])"
   ]
  },
  {
   "cell_type": "code",
   "execution_count": null,
   "id": "42cca449",
   "metadata": {},
   "outputs": [],
   "source": []
  }
 ],
 "metadata": {
  "kernelspec": {
   "display_name": "Python 3",
   "language": "python",
   "name": "python3"
  },
  "language_info": {
   "codemirror_mode": {
    "name": "ipython",
    "version": 3
   },
   "file_extension": ".py",
   "mimetype": "text/x-python",
   "name": "python",
   "nbconvert_exporter": "python",
   "pygments_lexer": "ipython3",
   "version": "3.8.5"
  }
 },
 "nbformat": 4,
 "nbformat_minor": 5
}
