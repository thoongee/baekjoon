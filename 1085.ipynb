{
 "cells": [
  {
   "cell_type": "code",
   "execution_count": 5,
   "id": "3118c6de",
   "metadata": {},
   "outputs": [
    {
     "name": "stdout",
     "output_type": "stream",
     "text": [
      "1 1 5 5\n",
      "1\n"
     ]
    }
   ],
   "source": [
    "x,y,w,h = map(int,input().split())\n",
    "\n",
    "if x<w:\n",
    "    d1 = w-x\n",
    "else:\n",
    "    d1 = x-w\n",
    "if y<h:\n",
    "    d2 = h-y\n",
    "else:\n",
    "    d2 = y-h\n",
    "print(min(d1,d2,x,y))"
   ]
  },
  {
   "cell_type": "code",
   "execution_count": 6,
   "id": "91cd9b56",
   "metadata": {},
   "outputs": [
    {
     "name": "stdout",
     "output_type": "stream",
     "text": [
      "1 1 5 5\n",
      "1\n"
     ]
    }
   ],
   "source": [
    "x,y,w,h = map(int,input().split())\n",
    "\n",
    "d1 = abs(x-w)\n",
    "d2 = abs(y-h)\n",
    "print(min(d1,d2,x,y))"
   ]
  },
  {
   "cell_type": "code",
   "execution_count": null,
   "id": "e2a07e42",
   "metadata": {},
   "outputs": [],
   "source": []
  }
 ],
 "metadata": {
  "kernelspec": {
   "display_name": "Python 3",
   "language": "python",
   "name": "python3"
  },
  "language_info": {
   "codemirror_mode": {
    "name": "ipython",
    "version": 3
   },
   "file_extension": ".py",
   "mimetype": "text/x-python",
   "name": "python",
   "nbconvert_exporter": "python",
   "pygments_lexer": "ipython3",
   "version": "3.8.5"
  }
 },
 "nbformat": 4,
 "nbformat_minor": 5
}
