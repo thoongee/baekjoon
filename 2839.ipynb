{
 "cells": [
  {
   "cell_type": "code",
   "execution_count": 16,
   "id": "7f5bd84b",
   "metadata": {},
   "outputs": [
    {
     "name": "stdout",
     "output_type": "stream",
     "text": [
      "11\n",
      "3\n"
     ]
    }
   ],
   "source": [
    "# 전의 봉지 무게 기억 : DP\n",
    "# 5kg 먼저 배달 : 그리디\n",
    "# 5kg 가능한만큼 먼저 다\n",
    "\n",
    "#어디가 틀린진 모르겠는데, 틀렸대\n",
    "n = int(input())\n",
    "cnt = 0\n",
    "\n",
    "while n>0:\n",
    "    if n-5 > 4 or n-5 ==3:\n",
    "        n = n-5\n",
    "        cnt += 1\n",
    "#         print('n: ',n)\n",
    "#         print('cnt: ',cnt)\n",
    "    else:\n",
    "        n = n-3\n",
    "        cnt += 1\n",
    "#         print('en: ',n)\n",
    "#         print('ecnt: ',cnt)\n",
    "    \n",
    "if n == 0:\n",
    "    print(cnt)\n",
    "else:\n",
    "    print(-1)\n"
   ]
  },
  {
   "cell_type": "code",
   "execution_count": 22,
   "id": "71eaa49b",
   "metadata": {},
   "outputs": [
    {
     "name": "stdout",
     "output_type": "stream",
     "text": [
      "18\n",
      "4\n"
     ]
    }
   ],
   "source": [
    "#순서를 바꿔보자. 3kg먼저. \n",
    "# 3을 빼서 5의 배수가 만들어지지 않는다면, 3으로 남은것도 다 빼야하니까 default를 3kg으로\n",
    "\n",
    "n = int(input())\n",
    "cnt = 0\n",
    "\n",
    "while n>=0:\n",
    "    if n%5 == 0:\n",
    "        cnt += n//5\n",
    "        n = 0\n",
    "        break\n",
    "        \n",
    "    n -= 3\n",
    "    cnt += 1\n",
    "    \n",
    "if n==0:\n",
    "    print(cnt)\n",
    "else:\n",
    "    print(-1)\n"
   ]
  },
  {
   "cell_type": "code",
   "execution_count": null,
   "id": "5e437df0",
   "metadata": {},
   "outputs": [],
   "source": []
  }
 ],
 "metadata": {
  "kernelspec": {
   "display_name": "Python 3",
   "language": "python",
   "name": "python3"
  },
  "language_info": {
   "codemirror_mode": {
    "name": "ipython",
    "version": 3
   },
   "file_extension": ".py",
   "mimetype": "text/x-python",
   "name": "python",
   "nbconvert_exporter": "python",
   "pygments_lexer": "ipython3",
   "version": "3.8.5"
  }
 },
 "nbformat": 4,
 "nbformat_minor": 5
}
